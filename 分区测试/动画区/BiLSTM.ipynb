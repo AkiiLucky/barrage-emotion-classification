{
 "cells": [
  {
   "cell_type": "code",
   "execution_count": 17,
   "metadata": {},
   "outputs": [],
   "source": [
    "import torch\n",
    "import torch.nn as nn\n",
    "from torch.functional import F\n",
    "from sklearn import metrics\n",
    "import matplotlib.pyplot as plt\n",
    "plt.rcParams['font.sans-serif'] = ['SimHei']  # 用来正常显示中文标签\n",
    "plt.rcParams['axes.unicode_minus'] = False  # 用来正常显示负号\n",
    "%matplotlib inline\n",
    "import numpy as np\n",
    "from utils import plot_confusion_matrix"
   ]
  },
  {
   "cell_type": "code",
   "execution_count": 18,
   "metadata": {},
   "outputs": [],
   "source": [
    "x_train = torch.load(\"dataset/x_train\")\n",
    "y_train = torch.load(\"dataset/y_train\")\n",
    "x_test = torch.load(\"dataset/x_test\")\n",
    "y_test = torch.load(\"dataset/y_test\")"
   ]
  },
  {
   "cell_type": "code",
   "execution_count": 19,
   "metadata": {},
   "outputs": [],
   "source": [
    "class BiRNN(nn.Module):\n",
    "    def __init__(self, embed_size, num_hiddens, num_layers, classes):\n",
    "        super(BiRNN, self).__init__()\n",
    "        # bidirectional设为True即得到双向循环神经网络\n",
    "\n",
    "        self.encoder = nn.LSTM(input_size=embed_size,\n",
    "                               hidden_size=num_hiddens,\n",
    "                               num_layers=num_layers,\n",
    "                               bidirectional=True)\n",
    "        \n",
    "        # 初始时间步和最终时间步的隐藏状态作为全连接层输入\n",
    "        self.classifier = nn.Sequential(\n",
    "            nn.Linear(4*num_hiddens, 128*num_hiddens),\n",
    "            nn.BatchNorm1d(128*num_hiddens),\n",
    "            nn.Sigmoid(),\n",
    "            nn.Linear(128*num_hiddens,classes)\n",
    "        )\n",
    "\n",
    "\n",
    "    def forward(self, inputs):\n",
    "        # inputs的形状是(批量大小, 词数, 词向量维度)，因为LSTM需要将序列长度(seq_len)作为第一维，所以将输入转置后\n",
    "        # 再提取词特征，输出形状为(词数, 批量大小, 词向量维度)\n",
    "        inputs = torch.transpose(inputs, 0, 1)\n",
    "        # outputs形状是(词数, 批量大小, 2 * 隐藏单元个数)\n",
    "        outputs, _ = self.encoder(inputs)  # output, (h, c)\n",
    "        # 连结初始时间步和最终时间步的隐藏状态作为全连接层输入。它的形状为 (批量大小, 4 * 隐藏单元个数)。\n",
    "        outs = torch.cat((outputs[0], outputs[-1]), -1)\n",
    "        outs = self.classifier(outs)\n",
    "        return outs"
   ]
  },
  {
   "cell_type": "code",
   "execution_count": 20,
   "metadata": {},
   "outputs": [],
   "source": [
    "model = BiRNN(embed_size=100, num_hiddens=100, num_layers=5, classes=5)\n",
    "device = torch.device(\"cuda:0\" if torch.cuda.is_available() else \"cpu\")\n",
    "model = model.to(device)"
   ]
  },
  {
   "cell_type": "code",
   "execution_count": 21,
   "metadata": {},
   "outputs": [],
   "source": [
    "def batch_padding(batch_data):\n",
    "    # 针对一批句子的长度（词向量个数）不一样时，全部补0到最大句子长度\n",
    "    new_batch_data = []\n",
    "    max_len = 0\n",
    "    for s in batch_data:\n",
    "        s = torch.tensor(s)\n",
    "        new_batch_data.append(s)\n",
    "        max_len = max(max_len,s.shape[0])\n",
    "    for i in range(len(new_batch_data)):\n",
    "        new_batch_data[i] = F.pad(new_batch_data[i], [0, 0, 0, max_len-new_batch_data[i].shape[0]])\n",
    "    return torch.stack(new_batch_data, 0)\t"
   ]
  },
  {
   "cell_type": "code",
   "execution_count": 22,
   "metadata": {},
   "outputs": [
    {
     "data": {
      "text/plain": [
       "torch.Size([5, 11, 100])"
      ]
     },
     "execution_count": 22,
     "metadata": {},
     "output_type": "execute_result"
    }
   ],
   "source": [
    "sentences = batch_padding(x_train[0:5])\n",
    "sentences.shape # [batch_size,句子中词的个数,词向量维度]"
   ]
  },
  {
   "cell_type": "code",
   "execution_count": 23,
   "metadata": {},
   "outputs": [
    {
     "name": "stdout",
     "output_type": "stream",
     "text": [
      "tensor([[-0.2184,  0.0425, -0.3315,  0.3687,  0.3641],\n",
      "        [-0.2186,  0.0424, -0.3316,  0.3687,  0.3640],\n",
      "        [-0.2160,  0.0460, -0.3319,  0.3687,  0.3628],\n",
      "        [-0.2185,  0.0426, -0.3314,  0.3688,  0.3643],\n",
      "        [-0.2183,  0.0425, -0.3313,  0.3685,  0.3637]], device='cuda:0',\n",
      "       grad_fn=<AddmmBackward>)\n"
     ]
    }
   ],
   "source": [
    "print(model(sentences.to(device))) # 输出为OneHot编码形式"
   ]
  },
  {
   "cell_type": "markdown",
   "metadata": {},
   "source": [
    "## 训练"
   ]
  },
  {
   "cell_type": "code",
   "execution_count": 24,
   "metadata": {},
   "outputs": [],
   "source": [
    "def train(model,dataset_x,dataset_y,num_epochs,\n",
    "batch_size,optimizer,loss,batch_loss_list,batch_acc_list):\n",
    "    model.train()\n",
    "    for epoch in range(num_epochs):\n",
    "        print(\"epoch\",epoch)\n",
    "        train_l_sum, train_acc_sum, n = 0.0, 0.0, 0\n",
    "        batch_num = len(dataset_x) // batch_size\n",
    "        for i in range(batch_num):\n",
    "            X = batch_padding(dataset_x[i*batch_size : (i+1)*batch_size]).to(device)\n",
    "            y = torch.tensor(dataset_y[i*batch_size : (i+1)*batch_size]).to(device)\n",
    "            y_hat = model(X)\n",
    "            y = y.argmax(dim=1).long()\n",
    "            loss_ = loss(y_hat, y)\n",
    "            optimizer.zero_grad()\n",
    "            loss_.backward()\n",
    "            optimizer.step()\n",
    "\n",
    "            batch_loss = loss_.cpu().item()\n",
    "            batch_acc = (y_hat.argmax(dim=1) == y).sum().cpu().item()\n",
    "            batch_loss_list.append(batch_loss/batch_size)\n",
    "            batch_acc_list.append(batch_acc/batch_size)\n",
    "            print(f\"epoch:{epoch},batch loss:{batch_loss/batch_size},batch acc:{batch_acc/batch_size}\")\n",
    "        "
   ]
  },
  {
   "cell_type": "code",
   "execution_count": 25,
   "metadata": {},
   "outputs": [],
   "source": [
    "lr = 0.001\n",
    "optimizer = torch.optim.Adam(filter(lambda p: p.requires_grad,model.parameters()), lr=lr)\n",
    "loss = nn.CrossEntropyLoss().to(device) "
   ]
  },
  {
   "cell_type": "code",
   "execution_count": 26,
   "metadata": {},
   "outputs": [],
   "source": [
    "batch_loss_list = []\n",
    "batch_acc_list = []"
   ]
  },
  {
   "cell_type": "code",
   "execution_count": 27,
   "metadata": {},
   "outputs": [
    {
     "name": "stdout",
     "output_type": "stream",
     "text": [
      "training... \n",
      "epoch 0\n",
      "epoch:0,batch loss:0.007251089904457331,batch acc:0.109375\n",
      "epoch:0,batch loss:0.015465998090803623,batch acc:0.48046875\n",
      "epoch:0,batch loss:0.022166555747389793,batch acc:0.47265625\n",
      "epoch:0,batch loss:0.0136453527957201,batch acc:0.51171875\n",
      "epoch:0,batch loss:0.013842440210282803,batch acc:0.28515625\n",
      "epoch 1\n",
      "epoch:1,batch loss:0.009906335733830929,batch acc:0.25390625\n",
      "epoch:1,batch loss:0.007383638061583042,batch acc:0.171875\n",
      "epoch:1,batch loss:0.011497104540467262,batch acc:0.15625\n",
      "epoch:1,batch loss:0.011339896358549595,batch acc:0.51171875\n",
      "epoch:1,batch loss:0.012118563055992126,batch acc:0.51171875\n",
      "epoch 2\n",
      "epoch:2,batch loss:0.008260248228907585,batch acc:0.57421875\n",
      "epoch:2,batch loss:0.006362134590744972,batch acc:0.48046875\n",
      "epoch:2,batch loss:0.008807391859591007,batch acc:0.27734375\n",
      "epoch:2,batch loss:0.009358575567603111,batch acc:0.25390625\n",
      "epoch:2,batch loss:0.007780828978866339,batch acc:0.1171875\n",
      "epoch 3\n",
      "epoch:3,batch loss:0.006338856648653746,batch acc:0.08984375\n",
      "epoch:3,batch loss:0.006849236786365509,batch acc:0.48046875\n",
      "epoch:3,batch loss:0.00903899222612381,batch acc:0.47265625\n",
      "epoch:3,batch loss:0.007976317778229713,batch acc:0.51171875\n",
      "epoch:3,batch loss:0.005669262260198593,batch acc:0.515625\n",
      "epoch 4\n",
      "epoch:4,batch loss:0.005453328602015972,batch acc:0.48828125\n",
      "epoch:4,batch loss:0.006722570862621069,batch acc:0.26953125\n",
      "epoch:4,batch loss:0.006070689298212528,batch acc:0.296875\n",
      "epoch:4,batch loss:0.005145693197846413,batch acc:0.36328125\n",
      "epoch:4,batch loss:0.005138043779879808,batch acc:0.515625\n",
      "epoch 5\n",
      "epoch:5,batch loss:0.005279638338834047,batch acc:0.57421875\n",
      "epoch:5,batch loss:0.006460779346525669,batch acc:0.48046875\n",
      "epoch:5,batch loss:0.005425710696727037,batch acc:0.47265625\n",
      "epoch:5,batch loss:0.005158294923603535,batch acc:0.48046875\n",
      "epoch:5,batch loss:0.005803014617413282,batch acc:0.26953125\n",
      "epoch 6\n",
      "epoch:6,batch loss:0.005449739750474691,batch acc:0.2421875\n",
      "epoch:6,batch loss:0.004831928294152021,batch acc:0.48046875\n",
      "epoch:6,batch loss:0.005773527082055807,batch acc:0.47265625\n",
      "epoch:6,batch loss:0.0053703757002949715,batch acc:0.51171875\n",
      "epoch:6,batch loss:0.004928224720060825,batch acc:0.51171875\n",
      "epoch 7\n",
      "epoch:7,batch loss:0.004562627524137497,batch acc:0.57421875\n",
      "epoch:7,batch loss:0.005119991488754749,batch acc:0.26953125\n",
      "epoch:7,batch loss:0.005028412211686373,batch acc:0.34765625\n",
      "epoch:7,batch loss:0.004677704069763422,batch acc:0.51171875\n",
      "epoch:7,batch loss:0.004650079645216465,batch acc:0.51171875\n",
      "epoch 8\n",
      "epoch:8,batch loss:0.004436973016709089,batch acc:0.57421875\n",
      "epoch:8,batch loss:0.004857583437114954,batch acc:0.48046875\n",
      "epoch:8,batch loss:0.004909428767859936,batch acc:0.4609375\n",
      "epoch:8,batch loss:0.004806108307093382,batch acc:0.48046875\n",
      "epoch:8,batch loss:0.00464694993570447,batch acc:0.51953125\n",
      "epoch 9\n",
      "epoch:9,batch loss:0.004341814201325178,batch acc:0.56640625\n",
      "epoch:9,batch loss:0.005112049635499716,batch acc:0.47265625\n",
      "epoch:9,batch loss:0.005282084457576275,batch acc:0.4765625\n",
      "epoch:9,batch loss:0.004539825487881899,batch acc:0.51171875\n",
      "epoch:9,batch loss:0.004682001657783985,batch acc:0.55078125\n",
      "epoch 10\n",
      "epoch:10,batch loss:0.004793629515916109,batch acc:0.5078125\n",
      "epoch:10,batch loss:0.004716375842690468,batch acc:0.484375\n",
      "epoch:10,batch loss:0.00501595064997673,batch acc:0.47265625\n",
      "epoch:10,batch loss:0.0047005475498735905,batch acc:0.51171875\n",
      "epoch:10,batch loss:0.004442261997610331,batch acc:0.52734375\n",
      "epoch 11\n",
      "epoch:11,batch loss:0.004447523038834333,batch acc:0.5546875\n",
      "epoch:11,batch loss:0.004656048025935888,batch acc:0.50390625\n",
      "epoch:11,batch loss:0.004792452324181795,batch acc:0.4921875\n",
      "epoch:11,batch loss:0.0045039961114525795,batch acc:0.5078125\n",
      "epoch:11,batch loss:0.004414251074194908,batch acc:0.5234375\n",
      "epoch 12\n",
      "epoch:12,batch loss:0.004215442109853029,batch acc:0.57421875\n",
      "epoch:12,batch loss:0.004679012577980757,batch acc:0.5078125\n",
      "epoch:12,batch loss:0.0047180745750665665,batch acc:0.484375\n",
      "epoch:12,batch loss:0.004485286306589842,batch acc:0.53125\n",
      "epoch:12,batch loss:0.00449566962197423,batch acc:0.52734375\n",
      "epoch 13\n",
      "epoch:13,batch loss:0.00420314259827137,batch acc:0.57421875\n",
      "epoch:13,batch loss:0.004653119016438723,batch acc:0.51171875\n",
      "epoch:13,batch loss:0.004880072548985481,batch acc:0.49609375\n",
      "epoch:13,batch loss:0.004458064213395119,batch acc:0.56640625\n",
      "epoch:13,batch loss:0.004755889996886253,batch acc:0.44140625\n",
      "epoch 14\n",
      "epoch:14,batch loss:0.004301223438233137,batch acc:0.59375\n",
      "epoch:14,batch loss:0.004574454389512539,batch acc:0.5078125\n",
      "epoch:14,batch loss:0.00509986374527216,batch acc:0.484375\n",
      "epoch:14,batch loss:0.004325132817029953,batch acc:0.546875\n",
      "epoch:14,batch loss:0.004434644710272551,batch acc:0.5703125\n",
      "epoch 15\n",
      "epoch:15,batch loss:0.004344255663454533,batch acc:0.6171875\n",
      "epoch:15,batch loss:0.0045976354740560055,batch acc:0.484375\n",
      "epoch:15,batch loss:0.004798590205609798,batch acc:0.4765625\n",
      "epoch:15,batch loss:0.004375420045107603,batch acc:0.51953125\n",
      "epoch:15,batch loss:0.004424119368195534,batch acc:0.58203125\n",
      "epoch 16\n",
      "epoch:16,batch loss:0.004290541168302298,batch acc:0.625\n",
      "epoch:16,batch loss:0.0044359550811350346,batch acc:0.515625\n",
      "epoch:16,batch loss:0.004809766076505184,batch acc:0.50390625\n",
      "epoch:16,batch loss:0.004299588035792112,batch acc:0.58203125\n",
      "epoch:16,batch loss:0.004370993934571743,batch acc:0.59375\n",
      "epoch 17\n",
      "epoch:17,batch loss:0.004176354501396418,batch acc:0.63671875\n",
      "epoch:17,batch loss:0.004336278419941664,batch acc:0.54296875\n",
      "epoch:17,batch loss:0.004626240581274033,batch acc:0.5234375\n",
      "epoch:17,batch loss:0.004191351123154163,batch acc:0.60546875\n",
      "epoch:17,batch loss:0.004465179983526468,batch acc:0.58203125\n",
      "epoch 18\n",
      "epoch:18,batch loss:0.00444818614050746,batch acc:0.62109375\n",
      "epoch:18,batch loss:0.00427771732211113,batch acc:0.5625\n",
      "epoch:18,batch loss:0.004612632095813751,batch acc:0.51171875\n",
      "epoch:18,batch loss:0.004179458133876324,batch acc:0.6015625\n",
      "epoch:18,batch loss:0.004384344909340143,batch acc:0.5703125\n",
      "epoch 19\n",
      "epoch:19,batch loss:0.004160645883530378,batch acc:0.63671875\n",
      "epoch:19,batch loss:0.004399050958454609,batch acc:0.53125\n",
      "epoch:19,batch loss:0.004710302222520113,batch acc:0.5078125\n",
      "epoch:19,batch loss:0.004334451165050268,batch acc:0.59765625\n",
      "epoch:19,batch loss:0.004367569461464882,batch acc:0.60546875\n",
      "epoch 20\n",
      "epoch:20,batch loss:0.004160831216722727,batch acc:0.64453125\n",
      "epoch:20,batch loss:0.004373221658170223,batch acc:0.546875\n",
      "epoch:20,batch loss:0.004714497365057468,batch acc:0.5078125\n",
      "epoch:20,batch loss:0.004184175748378038,batch acc:0.609375\n",
      "epoch:20,batch loss:0.004363830201327801,batch acc:0.54296875\n",
      "epoch 21\n",
      "epoch:21,batch loss:0.004289012402296066,batch acc:0.63671875\n",
      "epoch:21,batch loss:0.0041950782760977745,batch acc:0.5703125\n",
      "epoch:21,batch loss:0.004702506121248007,batch acc:0.5078125\n",
      "epoch:21,batch loss:0.004129573702812195,batch acc:0.6015625\n",
      "epoch:21,batch loss:0.004258644301444292,batch acc:0.609375\n",
      "epoch 22\n",
      "epoch:22,batch loss:0.004223369061946869,batch acc:0.60546875\n",
      "epoch:22,batch loss:0.004192163236439228,batch acc:0.56640625\n",
      "epoch:22,batch loss:0.0045043351128697395,batch acc:0.546875\n",
      "epoch:22,batch loss:0.0041230288334190845,batch acc:0.58984375\n",
      "epoch:22,batch loss:0.004278065171092749,batch acc:0.5859375\n",
      "epoch 23\n",
      "epoch:23,batch loss:0.004302922170609236,batch acc:0.62109375\n",
      "epoch:23,batch loss:0.0041924165561795235,batch acc:0.55078125\n",
      "epoch:23,batch loss:0.004461595788598061,batch acc:0.53515625\n",
      "epoch:23,batch loss:0.004228435922414064,batch acc:0.5859375\n",
      "epoch:23,batch loss:0.004414597060531378,batch acc:0.54296875\n",
      "epoch 24\n",
      "epoch:24,batch loss:0.0040403674356639385,batch acc:0.65234375\n",
      "epoch:24,batch loss:0.004254357889294624,batch acc:0.55859375\n",
      "epoch:24,batch loss:0.004565955605357885,batch acc:0.51953125\n",
      "epoch:24,batch loss:0.0040495204739272594,batch acc:0.60546875\n",
      "epoch:24,batch loss:0.004218419548124075,batch acc:0.6015625\n",
      "epoch 25\n",
      "epoch:25,batch loss:0.00406443327665329,batch acc:0.6328125\n",
      "epoch:25,batch loss:0.004246298223733902,batch acc:0.5625\n",
      "epoch:25,batch loss:0.004406624473631382,batch acc:0.5390625\n",
      "epoch:25,batch loss:0.004103976301848888,batch acc:0.59375\n",
      "epoch:25,batch loss:0.004253728315234184,batch acc:0.60546875\n",
      "epoch 26\n",
      "epoch:26,batch loss:0.004100697115063667,batch acc:0.64453125\n",
      "epoch:26,batch loss:0.004091748036444187,batch acc:0.57421875\n",
      "epoch:26,batch loss:0.00436896039173007,batch acc:0.5703125\n",
      "epoch:26,batch loss:0.004135488532483578,batch acc:0.59765625\n",
      "epoch:26,batch loss:0.004322602413594723,batch acc:0.546875\n",
      "epoch 27\n",
      "epoch:27,batch loss:0.004269224591553211,batch acc:0.6015625\n",
      "epoch:27,batch loss:0.004192747175693512,batch acc:0.58203125\n",
      "epoch:27,batch loss:0.004483381286263466,batch acc:0.53125\n",
      "epoch:27,batch loss:0.004001819994300604,batch acc:0.6015625\n",
      "epoch:27,batch loss:0.004276293329894543,batch acc:0.53125\n",
      "epoch 28\n",
      "epoch:28,batch loss:0.0039795381017029285,batch acc:0.61328125\n",
      "epoch:28,batch loss:0.004227192606776953,batch acc:0.54296875\n",
      "epoch:28,batch loss:0.00450329901650548,batch acc:0.51171875\n",
      "epoch:28,batch loss:0.00404013367369771,batch acc:0.61328125\n",
      "epoch:28,batch loss:0.004163726232945919,batch acc:0.58984375\n",
      "epoch 29\n",
      "epoch:29,batch loss:0.004240768495947123,batch acc:0.6171875\n",
      "epoch:29,batch loss:0.004275050479918718,batch acc:0.5625\n",
      "epoch:29,batch loss:0.0045684222131967545,batch acc:0.5234375\n",
      "epoch:29,batch loss:0.004076783545315266,batch acc:0.5859375\n",
      "epoch:29,batch loss:0.004297207575291395,batch acc:0.51953125\n"
     ]
    }
   ],
   "source": [
    "print(\"training... \")\n",
    "train(model=model,dataset_x=x_train,dataset_y=y_train,\n",
    "num_epochs=30,batch_size=256,optimizer=optimizer,loss=loss,\n",
    "batch_loss_list=batch_loss_list,batch_acc_list=batch_acc_list)\n",
    "# torch.save(model,\"models/BiLSTM_v3.npy\")"
   ]
  },
  {
   "cell_type": "code",
   "execution_count": 28,
   "metadata": {},
   "outputs": [
    {
     "data": {
      "text/plain": [
       "[<matplotlib.lines.Line2D at 0x190a64fef40>]"
      ]
     },
     "execution_count": 28,
     "metadata": {},
     "output_type": "execute_result"
    },
    {
     "data": {
      "image/png": "[encoded data removed]",
      "text/plain": [
       "<Figure size 432x288 with 1 Axes>"
      ]
     },
     "metadata": {
      "needs_background": "light"
     },
     "output_type": "display_data"
    }
   ],
   "source": [
    "plt.xlabel('Iterations')\n",
    "plt.ylabel('train loss')\n",
    "plt.plot(np.arange(len(batch_loss_list)), batch_loss_list)"
   ]
  },
  {
   "cell_type": "code",
   "execution_count": 29,
   "metadata": {},
   "outputs": [
    {
     "data": {
      "text/plain": [
       "[<matplotlib.lines.Line2D at 0x190a52a56d0>]"
      ]
     },
     "execution_count": 29,
     "metadata": {},
     "output_type": "execute_result"
    },
    {
     "data": {
      "image/png": "[encoded data removed]",
      "text/plain": [
       "<Figure size 432x288 with 1 Axes>"
      ]
     },
     "metadata": {
      "needs_background": "light"
     },
     "output_type": "display_data"
    }
   ],
   "source": [
    "plt.xlabel('Iterations')\n",
    "plt.ylabel('train acc')\n",
    "plt.plot(np.arange(len(batch_acc_list)), batch_acc_list)"
   ]
  },
  {
   "cell_type": "markdown",
   "metadata": {},
   "source": [
    "## 测试"
   ]
  },
  {
   "cell_type": "code",
   "execution_count": 30,
   "metadata": {},
   "outputs": [],
   "source": [
    "def test(model,dataset_x,dataset_y,pred_list,real_list):\n",
    "    model.eval()\n",
    "    for i in range(len(dataset_x)):\n",
    "        X = torch.tensor([dataset_x[i]]).to(device)\n",
    "        y = torch.tensor([dataset_y[i]]).to(device)\n",
    "        y_hat = model(X)\n",
    "        pred_list.append(y_hat.argmax(dim=1).cpu().item())\n",
    "        real_list.append(y.argmax(dim=1).cpu().item())"
   ]
  },
  {
   "cell_type": "code",
   "execution_count": 32,
   "metadata": {},
   "outputs": [
    {
     "name": "stdout",
     "output_type": "stream",
     "text": [
      "testing... \n"
     ]
    }
   ],
   "source": [
    "# model = torch.load(\"models/BiLSTM_v3.npy\")\n",
    "pred_list = []\n",
    "real_list = []\n",
    "print(\"testing... \")\n",
    "test(model,x_test,y_test,pred_list,real_list)"
   ]
  },
  {
   "cell_type": "code",
   "execution_count": 33,
   "metadata": {},
   "outputs": [
    {
     "name": "stdout",
     "output_type": "stream",
     "text": [
      "              precision    recall  f1-score   support\n",
      "\n",
      "           0       0.55      0.79      0.65       166\n",
      "           1       0.13      0.32      0.18        44\n",
      "           2       0.00      0.00      0.00        99\n",
      "           3       0.00      0.00      0.00        39\n",
      "\n",
      "    accuracy                           0.42       348\n",
      "   macro avg       0.17      0.28      0.21       348\n",
      "weighted avg       0.28      0.42      0.33       348\n",
      "\n"
     ]
    },
    {
     "name": "stderr",
     "output_type": "stream",
     "text": [
      "e:\\Software\\Anaconda\\lib\\site-packages\\sklearn\\metrics\\_classification.py:1318: UndefinedMetricWarning: Precision and F-score are ill-defined and being set to 0.0 in labels with no predicted samples. Use `zero_division` parameter to control this behavior.\n",
      "  _warn_prf(average, modifier, msg_start, len(result))\n",
      "e:\\Software\\Anaconda\\lib\\site-packages\\sklearn\\metrics\\_classification.py:1318: UndefinedMetricWarning: Precision and F-score are ill-defined and being set to 0.0 in labels with no predicted samples. Use `zero_division` parameter to control this behavior.\n",
      "  _warn_prf(average, modifier, msg_start, len(result))\n",
      "e:\\Software\\Anaconda\\lib\\site-packages\\sklearn\\metrics\\_classification.py:1318: UndefinedMetricWarning: Precision and F-score are ill-defined and being set to 0.0 in labels with no predicted samples. Use `zero_division` parameter to control this behavior.\n",
      "  _warn_prf(average, modifier, msg_start, len(result))\n"
     ]
    }
   ],
   "source": [
    "print(metrics.classification_report(real_list,pred_list))"
   ]
  },
  {
   "cell_type": "code",
   "execution_count": 34,
   "metadata": {},
   "outputs": [
    {
     "name": "stdout",
     "output_type": "stream",
     "text": [
      "显示百分比：\n",
      "[[ 0.79  0.21  0.00  0.00]\n",
      " [ 0.68  0.32  0.00  0.00]\n",
      " [ 0.48  0.49  0.00  0.02]\n",
      " [ 0.72  0.28  0.00  0.00]]\n"
     ]
    },
    {
     "data": {
      "image/png": "[encoded data removed]",
      "text/plain": [
       "<Figure size 432x288 with 2 Axes>"
      ]
     },
     "metadata": {
      "needs_background": "light"
     },
     "output_type": "display_data"
    }
   ],
   "source": [
    "cm = metrics.confusion_matrix(real_list,pred_list)\n",
    "plot_confusion_matrix(cm,range(5),normalize=True,title='test dataset confusion matrix')"
   ]
  },
  {
   "cell_type": "code",
   "execution_count": null,
   "metadata": {},
   "outputs": [],
   "source": []
  }
 ],
 "metadata": {
  "kernelspec": {
   "display_name": "Python 3.8.8 ('base')",
   "language": "python",
   "name": "python3"
  },
  "language_info": {
   "codemirror_mode": {
    "name": "ipython",
    "version": 3
   },
   "file_extension": ".py",
   "mimetype": "text/x-python",
   "name": "python",
   "nbconvert_exporter": "python",
   "pygments_lexer": "ipython3",
   "version": "3.8.8"
  },
  "orig_nbformat": 4,
  "vscode": {
   "interpreter": {
    "hash": "6429919fe5eee10fa3db4376c75d0431aac4ee64633f3fde6de3e71a7b7c5c41"
   }
  }
 },
 "nbformat": 4,
 "nbformat_minor": 2
}
