{
 "cells": [
  {
   "cell_type": "code",
   "execution_count": 1,
   "metadata": {},
   "outputs": [],
   "source": [
    "import torch\n",
    "import torch.nn as nn\n",
    "from torch.functional import F\n",
    "from sklearn import metrics\n",
    "import matplotlib.pyplot as plt\n",
    "plt.rcParams['font.sans-serif'] = ['SimHei']  # 用来正常显示中文标签\n",
    "plt.rcParams['axes.unicode_minus'] = False  # 用来正常显示负号\n",
    "%matplotlib inline\n",
    "import numpy as np\n",
    "from utils import plot_confusion_matrix"
   ]
  },
  {
   "cell_type": "code",
   "execution_count": 2,
   "metadata": {},
   "outputs": [],
   "source": [
    "x_train = torch.load(\"dataset/x_train\")\n",
    "y_train = torch.load(\"dataset/y_train\")\n",
    "x_test = torch.load(\"dataset/x_test\")\n",
    "y_test = torch.load(\"dataset/y_test\")"
   ]
  },
  {
   "cell_type": "code",
   "execution_count": 3,
   "metadata": {},
   "outputs": [],
   "source": [
    "class BiRNN(nn.Module):\n",
    "    def __init__(self, embed_size, num_hiddens, num_layers, classes):\n",
    "        super(BiRNN, self).__init__()\n",
    "        # bidirectional设为True即得到双向循环神经网络\n",
    "\n",
    "        self.encoder = nn.LSTM(input_size=embed_size,\n",
    "                               hidden_size=num_hiddens,\n",
    "                               num_layers=num_layers,\n",
    "                               bidirectional=True)\n",
    "        \n",
    "        # 初始时间步和最终时间步的隐藏状态作为全连接层输入\n",
    "        self.classifier = nn.Sequential(\n",
    "            nn.Linear(4*num_hiddens, 128*num_hiddens),\n",
    "            nn.BatchNorm1d(128*num_hiddens),\n",
    "            nn.Sigmoid(),\n",
    "            nn.Linear(128*num_hiddens,classes)\n",
    "        )\n",
    "\n",
    "\n",
    "    def forward(self, inputs):\n",
    "        # inputs的形状是(批量大小, 词数, 词向量维度)，因为LSTM需要将序列长度(seq_len)作为第一维，所以将输入转置后\n",
    "        # 再提取词特征，输出形状为(词数, 批量大小, 词向量维度)\n",
    "        inputs = torch.transpose(inputs, 0, 1)\n",
    "        # outputs形状是(词数, 批量大小, 2 * 隐藏单元个数)\n",
    "        outputs, _ = self.encoder(inputs)  # output, (h, c)\n",
    "        # 连结初始时间步和最终时间步的隐藏状态作为全连接层输入。它的形状为 (批量大小, 4 * 隐藏单元个数)。\n",
    "        outs = torch.cat((outputs[0], outputs[-1]), -1)\n",
    "        outs = self.classifier(outs)\n",
    "        return outs"
   ]
  },
  {
   "cell_type": "code",
   "execution_count": 4,
   "metadata": {},
   "outputs": [],
   "source": [
    "model = BiRNN(embed_size=100, num_hiddens=100, num_layers=5, classes=5)\n",
    "device = torch.device(\"cuda:0\" if torch.cuda.is_available() else \"cpu\")\n",
    "model = model.to(device)"
   ]
  },
  {
   "cell_type": "code",
   "execution_count": 5,
   "metadata": {},
   "outputs": [],
   "source": [
    "def batch_padding(batch_data):\n",
    "    # 针对一批句子的长度（词向量个数）不一样时，全部补0到最大句子长度\n",
    "    new_batch_data = []\n",
    "    max_len = 0\n",
    "    for s in batch_data:\n",
    "        s = torch.tensor(s)\n",
    "        new_batch_data.append(s)\n",
    "        max_len = max(max_len,s.shape[0])\n",
    "    for i in range(len(new_batch_data)):\n",
    "        new_batch_data[i] = F.pad(new_batch_data[i], [0, 0, 0, max_len-new_batch_data[i].shape[0]])\n",
    "    return torch.stack(new_batch_data, 0)\t"
   ]
  },
  {
   "cell_type": "code",
   "execution_count": 6,
   "metadata": {},
   "outputs": [
    {
     "data": {
      "text/plain": [
       "torch.Size([5, 26, 100])"
      ]
     },
     "execution_count": 6,
     "metadata": {},
     "output_type": "execute_result"
    }
   ],
   "source": [
    "sentences = batch_padding(x_train[0:5])\n",
    "sentences.shape # [batch_size,句子中词的个数,词向量维度]"
   ]
  },
  {
   "cell_type": "code",
   "execution_count": 7,
   "metadata": {},
   "outputs": [
    {
     "name": "stdout",
     "output_type": "stream",
     "text": [
      "tensor([[ 0.2157,  0.0142, -0.0691, -0.0644, -0.0274],\n",
      "        [ 0.2120,  0.0176, -0.0627, -0.0631, -0.0287],\n",
      "        [ 0.2123,  0.0178, -0.0638, -0.0637, -0.0296],\n",
      "        [ 0.2119,  0.0177, -0.0634, -0.0630, -0.0292],\n",
      "        [ 0.2122,  0.0176, -0.0629, -0.0630, -0.0291]], device='cuda:0',\n",
      "       grad_fn=<AddmmBackward>)\n"
     ]
    }
   ],
   "source": [
    "print(model(sentences.to(device))) # 输出为OneHot编码形式"
   ]
  },
  {
   "cell_type": "markdown",
   "metadata": {},
   "source": [
    "## 训练"
   ]
  },
  {
   "cell_type": "code",
   "execution_count": 8,
   "metadata": {},
   "outputs": [],
   "source": [
    "def train(model,dataset_x,dataset_y,num_epochs,\n",
    "batch_size,optimizer,loss,batch_loss_list,batch_acc_list):\n",
    "    model.train()\n",
    "    for epoch in range(num_epochs):\n",
    "        print(\"epoch\",epoch)\n",
    "        train_l_sum, train_acc_sum, n = 0.0, 0.0, 0\n",
    "        batch_num = len(dataset_x) // batch_size\n",
    "        for i in range(batch_num):\n",
    "            X = batch_padding(dataset_x[i*batch_size : (i+1)*batch_size]).to(device)\n",
    "            y = torch.tensor(dataset_y[i*batch_size : (i+1)*batch_size]).to(device)\n",
    "            y_hat = model(X)\n",
    "            y = y.argmax(dim=1).long()\n",
    "            loss_ = loss(y_hat, y)\n",
    "            optimizer.zero_grad()\n",
    "            loss_.backward()\n",
    "            optimizer.step()\n",
    "\n",
    "            batch_loss = loss_.cpu().item()\n",
    "            batch_acc = (y_hat.argmax(dim=1) == y).sum().cpu().item()\n",
    "            batch_loss_list.append(batch_loss/batch_size)\n",
    "            batch_acc_list.append(batch_acc/batch_size)\n",
    "            print(f\"epoch:{epoch},batch loss:{batch_loss/batch_size},batch acc:{batch_acc/batch_size}\")\n",
    "        "
   ]
  },
  {
   "cell_type": "code",
   "execution_count": 9,
   "metadata": {},
   "outputs": [],
   "source": [
    "lr = 0.001\n",
    "optimizer = torch.optim.Adam(filter(lambda p: p.requires_grad,model.parameters()), lr=lr)\n",
    "loss = nn.CrossEntropyLoss().to(device) "
   ]
  },
  {
   "cell_type": "code",
   "execution_count": 10,
   "metadata": {},
   "outputs": [],
   "source": [
    "batch_loss_list = []\n",
    "batch_acc_list = []"
   ]
  },
  {
   "cell_type": "code",
   "execution_count": 11,
   "metadata": {},
   "outputs": [
    {
     "name": "stdout",
     "output_type": "stream",
     "text": [
      "training... \n",
      "epoch 0\n",
      "epoch:0,batch loss:0.0057292659766972065,batch acc:0.80078125\n",
      "epoch:0,batch loss:0.013166295364499092,batch acc:0.7421875\n",
      "epoch:0,batch loss:0.018161224201321602,batch acc:0.71484375\n",
      "epoch:0,batch loss:0.020051607862114906,batch acc:0.65625\n",
      "epoch 1\n",
      "epoch:1,batch loss:0.008513303473591805,batch acc:0.80078125\n",
      "epoch:1,batch loss:0.00553117087110877,batch acc:0.7421875\n",
      "epoch:1,batch loss:0.014160823076963425,batch acc:0.08203125\n",
      "epoch:1,batch loss:0.011007867753505707,batch acc:0.1171875\n",
      "epoch 2\n",
      "epoch:2,batch loss:0.00580671476200223,batch acc:0.5546875\n",
      "epoch:2,batch loss:0.00705297663807869,batch acc:0.7421875\n",
      "epoch:2,batch loss:0.01011122576892376,batch acc:0.71484375\n",
      "epoch:2,batch loss:0.013462933711707592,batch acc:0.65625\n",
      "epoch 3\n",
      "epoch:3,batch loss:0.0076549360528588295,batch acc:0.80078125\n",
      "epoch:3,batch loss:0.008161344565451145,batch acc:0.74609375\n",
      "epoch:3,batch loss:0.006685896776616573,batch acc:0.72265625\n",
      "epoch:3,batch loss:0.006468452047556639,batch acc:0.66015625\n",
      "epoch 4\n",
      "epoch:4,batch loss:0.007953597232699394,batch acc:0.609375\n",
      "epoch:4,batch loss:0.0050135343335568905,batch acc:0.59375\n",
      "epoch:4,batch loss:0.005837567616254091,batch acc:0.375\n",
      "epoch:4,batch loss:0.004667108412832022,batch acc:0.609375\n",
      "epoch 5\n",
      "epoch:5,batch loss:0.0029980866238474846,batch acc:0.796875\n",
      "epoch:5,batch loss:0.004734876099973917,batch acc:0.7421875\n",
      "epoch:5,batch loss:0.005514343269169331,batch acc:0.71484375\n",
      "epoch:5,batch loss:0.005672862753272057,batch acc:0.65625\n",
      "epoch 6\n",
      "epoch:6,batch loss:0.003118412336334586,batch acc:0.80078125\n",
      "epoch:6,batch loss:0.004447196610271931,batch acc:0.74609375\n",
      "epoch:6,batch loss:0.0042825848795473576,batch acc:0.7109375\n",
      "epoch:6,batch loss:0.003993349149823189,batch acc:0.65625\n",
      "epoch 7\n",
      "epoch:7,batch loss:0.003100660862401128,batch acc:0.80078125\n",
      "epoch:7,batch loss:0.004115849733352661,batch acc:0.7421875\n",
      "epoch:7,batch loss:0.004455057438462973,batch acc:0.71484375\n",
      "epoch:7,batch loss:0.0045694406144320965,batch acc:0.65625\n",
      "epoch 8\n",
      "epoch:8,batch loss:0.003253655508160591,batch acc:0.80078125\n",
      "epoch:8,batch loss:0.0035966893192380667,batch acc:0.75390625\n",
      "epoch:8,batch loss:0.0037063807249069214,batch acc:0.71484375\n",
      "epoch:8,batch loss:0.004229792393743992,batch acc:0.65625\n",
      "epoch 9\n",
      "epoch:9,batch loss:0.0029786182567477226,batch acc:0.8046875\n",
      "epoch:9,batch loss:0.0035044739488512278,batch acc:0.75\n",
      "epoch:9,batch loss:0.0036634576972573996,batch acc:0.71484375\n",
      "epoch:9,batch loss:0.0037762094289064407,batch acc:0.66015625\n",
      "epoch 10\n",
      "epoch:10,batch loss:0.003469380084425211,batch acc:0.78125\n",
      "epoch:10,batch loss:0.0031762525904923677,batch acc:0.75390625\n",
      "epoch:10,batch loss:0.0034209531731903553,batch acc:0.734375\n",
      "epoch:10,batch loss:0.00426483852788806,batch acc:0.67578125\n",
      "epoch 11\n",
      "epoch:11,batch loss:0.002757772570475936,batch acc:0.79296875\n",
      "epoch:11,batch loss:0.0030901727732270956,batch acc:0.76171875\n",
      "epoch:11,batch loss:0.0033228981774300337,batch acc:0.734375\n",
      "epoch:11,batch loss:0.003747361246496439,batch acc:0.671875\n",
      "epoch 12\n",
      "epoch:12,batch loss:0.003085161792114377,batch acc:0.7890625\n",
      "epoch:12,batch loss:0.0031271125189960003,batch acc:0.75390625\n",
      "epoch:12,batch loss:0.0033989790827035904,batch acc:0.7265625\n",
      "epoch:12,batch loss:0.0038990373723208904,batch acc:0.67578125\n",
      "epoch 13\n",
      "epoch:13,batch loss:0.0027604333590716124,batch acc:0.796875\n",
      "epoch:13,batch loss:0.002964019775390625,batch acc:0.75390625\n",
      "epoch:13,batch loss:0.0032136444933712482,batch acc:0.7265625\n",
      "epoch:13,batch loss:0.0035912394523620605,batch acc:0.67578125\n",
      "epoch 14\n",
      "epoch:14,batch loss:0.0027373842895030975,batch acc:0.80078125\n",
      "epoch:14,batch loss:0.003000859869644046,batch acc:0.75\n",
      "epoch:14,batch loss:0.0032808100804686546,batch acc:0.71484375\n",
      "epoch:14,batch loss:0.0036283032968640327,batch acc:0.6875\n",
      "epoch 15\n",
      "epoch:15,batch loss:0.0027537376154214144,batch acc:0.8125\n",
      "epoch:15,batch loss:0.002944366540759802,batch acc:0.75390625\n",
      "epoch:15,batch loss:0.0031054040882736444,batch acc:0.73828125\n",
      "epoch:15,batch loss:0.0034787990152835846,batch acc:0.6875\n",
      "epoch 16\n",
      "epoch:16,batch loss:0.0025433520786464214,batch acc:0.8125\n",
      "epoch:16,batch loss:0.0029290446545928717,batch acc:0.7578125\n",
      "epoch:16,batch loss:0.0030440487898886204,batch acc:0.74609375\n",
      "epoch:16,batch loss:0.003497135126963258,batch acc:0.6953125\n",
      "epoch 17\n",
      "epoch:17,batch loss:0.0025585906114429235,batch acc:0.8203125\n",
      "epoch:17,batch loss:0.0028690719045698643,batch acc:0.76171875\n",
      "epoch:17,batch loss:0.003105834359303117,batch acc:0.75\n",
      "epoch:17,batch loss:0.003321190597489476,batch acc:0.6953125\n",
      "epoch 18\n",
      "epoch:18,batch loss:0.002646502573043108,batch acc:0.82421875\n",
      "epoch:18,batch loss:0.0028069321997463703,batch acc:0.7578125\n",
      "epoch:18,batch loss:0.003003464313223958,batch acc:0.75\n",
      "epoch:18,batch loss:0.003393115708604455,batch acc:0.6953125\n",
      "epoch 19\n",
      "epoch:19,batch loss:0.00246117333881557,batch acc:0.82421875\n",
      "epoch:19,batch loss:0.002801033901050687,batch acc:0.765625\n",
      "epoch:19,batch loss:0.002958845579996705,batch acc:0.7421875\n",
      "epoch:19,batch loss:0.0031576540786772966,batch acc:0.71875\n",
      "epoch 20\n",
      "epoch:20,batch loss:0.0025185374543070793,batch acc:0.83203125\n",
      "epoch:20,batch loss:0.002719598589465022,batch acc:0.77734375\n",
      "epoch:20,batch loss:0.002889178926125169,batch acc:0.75\n",
      "epoch:20,batch loss:0.0033078929409384727,batch acc:0.71484375\n",
      "epoch 21\n",
      "epoch:21,batch loss:0.002881232649087906,batch acc:0.78125\n",
      "epoch:21,batch loss:0.0026996515225619078,batch acc:0.78125\n",
      "epoch:21,batch loss:0.002973225899040699,batch acc:0.7421875\n",
      "epoch:21,batch loss:0.0033804820850491524,batch acc:0.70703125\n",
      "epoch 22\n",
      "epoch:22,batch loss:0.002351453760638833,batch acc:0.83203125\n",
      "epoch:22,batch loss:0.002853637095540762,batch acc:0.7734375\n",
      "epoch:22,batch loss:0.0030067760962992907,batch acc:0.74609375\n",
      "epoch:22,batch loss:0.0032500200904905796,batch acc:0.71875\n",
      "epoch 23\n",
      "epoch:23,batch loss:0.0026272463146597147,batch acc:0.83984375\n",
      "epoch:23,batch loss:0.0029486948624253273,batch acc:0.765625\n",
      "epoch:23,batch loss:0.0032882269006222486,batch acc:0.72265625\n",
      "epoch:23,batch loss:0.0037195428740233183,batch acc:0.67578125\n",
      "epoch 24\n",
      "epoch:24,batch loss:0.002433469984680414,batch acc:0.83984375\n",
      "epoch:24,batch loss:0.0026851636357605457,batch acc:0.77734375\n",
      "epoch:24,batch loss:0.002843057969585061,batch acc:0.75\n",
      "epoch:24,batch loss:0.0035861958749592304,batch acc:0.67578125\n",
      "epoch 25\n",
      "epoch:25,batch loss:0.0022784825414419174,batch acc:0.84375\n",
      "epoch:25,batch loss:0.002769725862890482,batch acc:0.76171875\n",
      "epoch:25,batch loss:0.0028692996129393578,batch acc:0.73828125\n",
      "epoch:25,batch loss:0.003119590226560831,batch acc:0.71484375\n",
      "epoch 26\n",
      "epoch:26,batch loss:0.0025191090535372496,batch acc:0.81640625\n",
      "epoch:26,batch loss:0.0026871701702475548,batch acc:0.79296875\n",
      "epoch:26,batch loss:0.002899060258641839,batch acc:0.765625\n",
      "epoch:26,batch loss:0.0032007170375436544,batch acc:0.72265625\n",
      "epoch 27\n",
      "epoch:27,batch loss:0.0022643234115093946,batch acc:0.83203125\n",
      "epoch:27,batch loss:0.0026086478028446436,batch acc:0.78515625\n",
      "epoch:27,batch loss:0.002694398397579789,batch acc:0.765625\n",
      "epoch:27,batch loss:0.0028984646778553724,batch acc:0.7421875\n",
      "epoch 28\n",
      "epoch:28,batch loss:0.00219627539627254,batch acc:0.8359375\n",
      "epoch:28,batch loss:0.0025557177141308784,batch acc:0.79296875\n",
      "epoch:28,batch loss:0.002581885550171137,batch acc:0.77734375\n",
      "epoch:28,batch loss:0.002872157609090209,batch acc:0.75390625\n",
      "epoch 29\n",
      "epoch:29,batch loss:0.0022617927752435207,batch acc:0.8359375\n",
      "epoch:29,batch loss:0.0026366037782281637,batch acc:0.78125\n",
      "epoch:29,batch loss:0.0025702561251819134,batch acc:0.765625\n",
      "epoch:29,batch loss:0.002650259993970394,batch acc:0.76953125\n"
     ]
    }
   ],
   "source": [
    "print(\"training... \")\n",
    "train(model=model,dataset_x=x_train,dataset_y=y_train,\n",
    "num_epochs=30,batch_size=256,optimizer=optimizer,loss=loss,\n",
    "batch_loss_list=batch_loss_list,batch_acc_list=batch_acc_list)\n",
    "# torch.save(model,\"models/BiLSTM_v3.npy\")"
   ]
  },
  {
   "cell_type": "code",
   "execution_count": 12,
   "metadata": {},
   "outputs": [
    {
     "data": {
      "text/plain": [
       "[<matplotlib.lines.Line2D at 0x209cb348400>]"
      ]
     },
     "execution_count": 12,
     "metadata": {},
     "output_type": "execute_result"
    },
    {
     "data": {
      "image/png": "[encoded data removed]",
      "text/plain": [
       "<Figure size 432x288 with 1 Axes>"
      ]
     },
     "metadata": {
      "needs_background": "light"
     },
     "output_type": "display_data"
    }
   ],
   "source": [
    "plt.xlabel('Iterations')\n",
    "plt.ylabel('train loss')\n",
    "plt.plot(np.arange(len(batch_loss_list)), batch_loss_list)"
   ]
  },
  {
   "cell_type": "code",
   "execution_count": 13,
   "metadata": {},
   "outputs": [
    {
     "data": {
      "text/plain": [
       "[<matplotlib.lines.Line2D at 0x209cad36f40>]"
      ]
     },
     "execution_count": 13,
     "metadata": {},
     "output_type": "execute_result"
    },
    {
     "data": {
      "image/png": "[encoded data removed]",
      "text/plain": [
       "<Figure size 432x288 with 1 Axes>"
      ]
     },
     "metadata": {
      "needs_background": "light"
     },
     "output_type": "display_data"
    }
   ],
   "source": [
    "plt.xlabel('Iterations')\n",
    "plt.ylabel('train acc')\n",
    "plt.plot(np.arange(len(batch_acc_list)), batch_acc_list)"
   ]
  },
  {
   "cell_type": "markdown",
   "metadata": {},
   "source": [
    "## 测试"
   ]
  },
  {
   "cell_type": "code",
   "execution_count": 14,
   "metadata": {},
   "outputs": [],
   "source": [
    "def test(model,dataset_x,dataset_y,pred_list,real_list):\n",
    "    model.eval()\n",
    "    for i in range(len(dataset_x)):\n",
    "        X = torch.tensor([dataset_x[i]]).to(device)\n",
    "        y = torch.tensor([dataset_y[i]]).to(device)\n",
    "        y_hat = model(X)\n",
    "        pred_list.append(y_hat.argmax(dim=1).cpu().item())\n",
    "        real_list.append(y.argmax(dim=1).cpu().item())"
   ]
  },
  {
   "cell_type": "code",
   "execution_count": 15,
   "metadata": {},
   "outputs": [
    {
     "name": "stdout",
     "output_type": "stream",
     "text": [
      "testing... \n"
     ]
    }
   ],
   "source": [
    "# model = torch.load(\"models/BiLSTM_v3.npy\")\n",
    "pred_list = []\n",
    "real_list = []\n",
    "print(\"testing... \")\n",
    "test(model,x_test,y_test,pred_list,real_list)"
   ]
  },
  {
   "cell_type": "code",
   "execution_count": 16,
   "metadata": {},
   "outputs": [
    {
     "name": "stdout",
     "output_type": "stream",
     "text": [
      "              precision    recall  f1-score   support\n",
      "\n",
      "           0       0.74      0.73      0.74       192\n",
      "           1       0.04      0.04      0.04        23\n",
      "           2       0.05      0.15      0.08        13\n",
      "           3       1.00      0.08      0.14        26\n",
      "           4       0.00      0.00      0.00         4\n",
      "\n",
      "    accuracy                           0.57       258\n",
      "   macro avg       0.37      0.20      0.20       258\n",
      "weighted avg       0.66      0.57      0.57       258\n",
      "\n"
     ]
    },
    {
     "name": "stderr",
     "output_type": "stream",
     "text": [
      "e:\\Software\\Anaconda\\lib\\site-packages\\sklearn\\metrics\\_classification.py:1318: UndefinedMetricWarning: Precision and F-score are ill-defined and being set to 0.0 in labels with no predicted samples. Use `zero_division` parameter to control this behavior.\n",
      "  _warn_prf(average, modifier, msg_start, len(result))\n",
      "e:\\Software\\Anaconda\\lib\\site-packages\\sklearn\\metrics\\_classification.py:1318: UndefinedMetricWarning: Precision and F-score are ill-defined and being set to 0.0 in labels with no predicted samples. Use `zero_division` parameter to control this behavior.\n",
      "  _warn_prf(average, modifier, msg_start, len(result))\n",
      "e:\\Software\\Anaconda\\lib\\site-packages\\sklearn\\metrics\\_classification.py:1318: UndefinedMetricWarning: Precision and F-score are ill-defined and being set to 0.0 in labels with no predicted samples. Use `zero_division` parameter to control this behavior.\n",
      "  _warn_prf(average, modifier, msg_start, len(result))\n"
     ]
    }
   ],
   "source": [
    "print(metrics.classification_report(real_list,pred_list))"
   ]
  },
  {
   "cell_type": "code",
   "execution_count": 17,
   "metadata": {},
   "outputs": [
    {
     "name": "stdout",
     "output_type": "stream",
     "text": [
      "显示百分比：\n",
      "[[ 0.73  0.12  0.14  0.00  0.00]\n",
      " [ 0.87  0.04  0.09  0.00  0.00]\n",
      " [ 0.69  0.15  0.15  0.00  0.00]\n",
      " [ 0.65  0.04  0.23  0.08  0.00]\n",
      " [ 1.00  0.00  0.00  0.00  0.00]]\n"
     ]
    },
    {
     "data": {
      "image/png": "[encoded data removed]",
      "text/plain": [
       "<Figure size 432x288 with 2 Axes>"
      ]
     },
     "metadata": {
      "needs_background": "light"
     },
     "output_type": "display_data"
    }
   ],
   "source": [
    "cm = metrics.confusion_matrix(real_list,pred_list)\n",
    "plot_confusion_matrix(cm,range(5),normalize=True,title='test dataset confusion matrix')"
   ]
  },
  {
   "cell_type": "code",
   "execution_count": null,
   "metadata": {},
   "outputs": [],
   "source": []
  }
 ],
 "metadata": {
  "kernelspec": {
   "display_name": "Python 3.8.8 ('base')",
   "language": "python",
   "name": "python3"
  },
  "language_info": {
   "codemirror_mode": {
    "name": "ipython",
    "version": 3
   },
   "file_extension": ".py",
   "mimetype": "text/x-python",
   "name": "python",
   "nbconvert_exporter": "python",
   "pygments_lexer": "ipython3",
   "version": "3.8.8"
  },
  "orig_nbformat": 4,
  "vscode": {
   "interpreter": {
    "hash": "6429919fe5eee10fa3db4376c75d0431aac4ee64633f3fde6de3e71a7b7c5c41"
   }
  }
 },
 "nbformat": 4,
 "nbformat_minor": 2
}
