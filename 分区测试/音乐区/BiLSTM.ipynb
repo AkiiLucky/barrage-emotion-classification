{
 "cells": [
  {
   "cell_type": "code",
   "execution_count": 1,
   "metadata": {},
   "outputs": [],
   "source": [
    "import torch\n",
    "import torch.nn as nn\n",
    "from torch.functional import F\n",
    "from sklearn import metrics\n",
    "import matplotlib.pyplot as plt\n",
    "plt.rcParams['font.sans-serif'] = ['SimHei']  # 用来正常显示中文标签\n",
    "plt.rcParams['axes.unicode_minus'] = False  # 用来正常显示负号\n",
    "%matplotlib inline\n",
    "import numpy as np\n",
    "from utils import plot_confusion_matrix"
   ]
  },
  {
   "cell_type": "code",
   "execution_count": 2,
   "metadata": {},
   "outputs": [],
   "source": [
    "x_train = torch.load(\"dataset/x_train\")\n",
    "y_train = torch.load(\"dataset/y_train\")\n",
    "x_test = torch.load(\"dataset/x_test\")\n",
    "y_test = torch.load(\"dataset/y_test\")"
   ]
  },
  {
   "cell_type": "code",
   "execution_count": 3,
   "metadata": {},
   "outputs": [],
   "source": [
    "class BiRNN(nn.Module):\n",
    "    def __init__(self, embed_size, num_hiddens, num_layers, classes):\n",
    "        super(BiRNN, self).__init__()\n",
    "        # bidirectional设为True即得到双向循环神经网络\n",
    "\n",
    "        self.encoder = nn.LSTM(input_size=embed_size,\n",
    "                               hidden_size=num_hiddens,\n",
    "                               num_layers=num_layers,\n",
    "                               bidirectional=True)\n",
    "        \n",
    "        # 初始时间步和最终时间步的隐藏状态作为全连接层输入\n",
    "        self.classifier = nn.Sequential(\n",
    "            nn.Linear(4*num_hiddens, 128*num_hiddens),\n",
    "            nn.BatchNorm1d(128*num_hiddens),\n",
    "            nn.Sigmoid(),\n",
    "            nn.Linear(128*num_hiddens,classes)\n",
    "        )\n",
    "\n",
    "\n",
    "    def forward(self, inputs):\n",
    "        # inputs的形状是(批量大小, 词数, 词向量维度)，因为LSTM需要将序列长度(seq_len)作为第一维，所以将输入转置后\n",
    "        # 再提取词特征，输出形状为(词数, 批量大小, 词向量维度)\n",
    "        inputs = torch.transpose(inputs, 0, 1)\n",
    "        # outputs形状是(词数, 批量大小, 2 * 隐藏单元个数)\n",
    "        outputs, _ = self.encoder(inputs)  # output, (h, c)\n",
    "        # 连结初始时间步和最终时间步的隐藏状态作为全连接层输入。它的形状为 (批量大小, 4 * 隐藏单元个数)。\n",
    "        outs = torch.cat((outputs[0], outputs[-1]), -1)\n",
    "        outs = self.classifier(outs)\n",
    "        return outs"
   ]
  },
  {
   "cell_type": "code",
   "execution_count": 4,
   "metadata": {},
   "outputs": [],
   "source": [
    "model = BiRNN(embed_size=100, num_hiddens=100, num_layers=5, classes=5)\n",
    "device = torch.device(\"cuda:0\" if torch.cuda.is_available() else \"cpu\")\n",
    "model = model.to(device)"
   ]
  },
  {
   "cell_type": "code",
   "execution_count": 5,
   "metadata": {},
   "outputs": [],
   "source": [
    "def batch_padding(batch_data):\n",
    "    # 针对一批句子的长度（词向量个数）不一样时，全部补0到最大句子长度\n",
    "    new_batch_data = []\n",
    "    max_len = 0\n",
    "    for s in batch_data:\n",
    "        s = torch.tensor(s)\n",
    "        new_batch_data.append(s)\n",
    "        max_len = max(max_len,s.shape[0])\n",
    "    for i in range(len(new_batch_data)):\n",
    "        new_batch_data[i] = F.pad(new_batch_data[i], [0, 0, 0, max_len-new_batch_data[i].shape[0]])\n",
    "    return torch.stack(new_batch_data, 0)\t"
   ]
  },
  {
   "cell_type": "code",
   "execution_count": 6,
   "metadata": {},
   "outputs": [
    {
     "data": {
      "text/plain": [
       "torch.Size([5, 4, 100])"
      ]
     },
     "execution_count": 6,
     "metadata": {},
     "output_type": "execute_result"
    }
   ],
   "source": [
    "sentences = batch_padding(x_train[0:5])\n",
    "sentences.shape # [batch_size,句子中词的个数,词向量维度]"
   ]
  },
  {
   "cell_type": "code",
   "execution_count": 7,
   "metadata": {},
   "outputs": [
    {
     "name": "stdout",
     "output_type": "stream",
     "text": [
      "tensor([[-0.1220,  0.2974,  0.2398,  0.2664, -0.3694],\n",
      "        [-0.1224,  0.2991,  0.2424,  0.2649, -0.3719],\n",
      "        [-0.1221,  0.2985,  0.2415,  0.2655, -0.3703],\n",
      "        [-0.1217,  0.2975,  0.2401,  0.2664, -0.3695],\n",
      "        [-0.1220,  0.2983,  0.2428,  0.2651, -0.3711]], device='cuda:0',\n",
      "       grad_fn=<AddmmBackward>)\n"
     ]
    }
   ],
   "source": [
    "print(model(sentences.to(device))) # 输出为OneHot编码形式"
   ]
  },
  {
   "cell_type": "markdown",
   "metadata": {},
   "source": [
    "## 训练"
   ]
  },
  {
   "cell_type": "code",
   "execution_count": 8,
   "metadata": {},
   "outputs": [],
   "source": [
    "def train(model,dataset_x,dataset_y,num_epochs,\n",
    "batch_size,optimizer,loss,batch_loss_list,batch_acc_list):\n",
    "    model.train()\n",
    "    for epoch in range(num_epochs):\n",
    "        print(\"epoch\",epoch)\n",
    "        train_l_sum, train_acc_sum, n = 0.0, 0.0, 0\n",
    "        batch_num = len(dataset_x) // batch_size\n",
    "        for i in range(batch_num):\n",
    "            X = batch_padding(dataset_x[i*batch_size : (i+1)*batch_size]).to(device)\n",
    "            y = torch.tensor(dataset_y[i*batch_size : (i+1)*batch_size]).to(device)\n",
    "            y_hat = model(X)\n",
    "            y = y.argmax(dim=1).long()\n",
    "            loss_ = loss(y_hat, y)\n",
    "            optimizer.zero_grad()\n",
    "            loss_.backward()\n",
    "            optimizer.step()\n",
    "\n",
    "            batch_loss = loss_.cpu().item()\n",
    "            batch_acc = (y_hat.argmax(dim=1) == y).sum().cpu().item()\n",
    "            batch_loss_list.append(batch_loss/batch_size)\n",
    "            batch_acc_list.append(batch_acc/batch_size)\n",
    "            print(f\"epoch:{epoch},batch loss:{batch_loss/batch_size},batch acc:{batch_acc/batch_size}\")\n",
    "        "
   ]
  },
  {
   "cell_type": "code",
   "execution_count": 9,
   "metadata": {},
   "outputs": [],
   "source": [
    "lr = 0.001\n",
    "optimizer = torch.optim.Adam(filter(lambda p: p.requires_grad,model.parameters()), lr=lr)\n",
    "loss = nn.CrossEntropyLoss().to(device) "
   ]
  },
  {
   "cell_type": "code",
   "execution_count": 10,
   "metadata": {},
   "outputs": [],
   "source": [
    "batch_loss_list = []\n",
    "batch_acc_list = []"
   ]
  },
  {
   "cell_type": "code",
   "execution_count": 11,
   "metadata": {},
   "outputs": [
    {
     "name": "stdout",
     "output_type": "stream",
     "text": [
      "training... \n",
      "epoch 0\n",
      "epoch:0,batch loss:0.006765749305486679,batch acc:0.1640625\n",
      "epoch:0,batch loss:0.018402453511953354,batch acc:0.5546875\n",
      "epoch:0,batch loss:0.02492784895002842,batch acc:0.51171875\n",
      "epoch:0,batch loss:0.01746990531682968,batch acc:0.5703125\n",
      "epoch:0,batch loss:0.011732346378266811,batch acc:0.4765625\n",
      "epoch:0,batch loss:0.016174962744116783,batch acc:0.22265625\n",
      "epoch:0,batch loss:0.018251435831189156,batch acc:0.14453125\n",
      "epoch:0,batch loss:0.011813610792160034,batch acc:0.12109375\n",
      "epoch 1\n",
      "epoch:1,batch loss:0.008335170336067677,batch acc:0.5390625\n",
      "epoch:1,batch loss:0.010333036072552204,batch acc:0.55859375\n",
      "epoch:1,batch loss:0.010408180765807629,batch acc:0.515625\n",
      "epoch:1,batch loss:0.008865263313055038,batch acc:0.5703125\n",
      "epoch:1,batch loss:0.010446684435009956,batch acc:0.16015625\n",
      "epoch:1,batch loss:0.009413281455636024,batch acc:0.1875\n",
      "epoch:1,batch loss:0.009950639680027962,batch acc:0.04296875\n",
      "epoch:1,batch loss:0.00816286075860262,batch acc:0.546875\n",
      "epoch 2\n",
      "epoch:2,batch loss:0.008908000774681568,batch acc:0.53125\n",
      "epoch:2,batch loss:0.006691775284707546,batch acc:0.5546875\n",
      "epoch:2,batch loss:0.0055471146479249,batch acc:0.515625\n",
      "epoch:2,batch loss:0.006470844615250826,batch acc:0.203125\n",
      "epoch:2,batch loss:0.0078061362728476524,batch acc:0.11328125\n",
      "epoch:2,batch loss:0.007197492755949497,batch acc:0.1171875\n",
      "epoch:2,batch loss:0.005918208509683609,batch acc:0.53125\n",
      "epoch:2,batch loss:0.0063394661992788315,batch acc:0.546875\n",
      "epoch 3\n",
      "epoch:3,batch loss:0.006047707516700029,batch acc:0.5390625\n",
      "epoch:3,batch loss:0.005830058362334967,batch acc:0.390625\n",
      "epoch:3,batch loss:0.006139214616268873,batch acc:0.3515625\n",
      "epoch:3,batch loss:0.0057952506467700005,batch acc:0.51171875\n",
      "epoch:3,batch loss:0.005447711795568466,batch acc:0.55078125\n",
      "epoch:3,batch loss:0.0059440964832901955,batch acc:0.49609375\n",
      "epoch:3,batch loss:0.005357020068913698,batch acc:0.53125\n",
      "epoch:3,batch loss:0.00583272660151124,batch acc:0.46484375\n",
      "epoch 4\n",
      "epoch:4,batch loss:0.005310567561537027,batch acc:0.51171875\n",
      "epoch:4,batch loss:0.004994276911020279,batch acc:0.54296875\n",
      "epoch:4,batch loss:0.00518998596817255,batch acc:0.51953125\n",
      "epoch:4,batch loss:0.005340000614523888,batch acc:0.56640625\n",
      "epoch:4,batch loss:0.005403381772339344,batch acc:0.5625\n",
      "epoch:4,batch loss:0.005562436301261187,batch acc:0.5078125\n",
      "epoch:4,batch loss:0.005180608481168747,batch acc:0.515625\n",
      "epoch:4,batch loss:0.005191069561988115,batch acc:0.48828125\n",
      "epoch 5\n",
      "epoch:5,batch loss:0.005265426356345415,batch acc:0.5234375\n",
      "epoch:5,batch loss:0.005036994814872742,batch acc:0.56640625\n",
      "epoch:5,batch loss:0.005343250930309296,batch acc:0.515625\n",
      "epoch:5,batch loss:0.0047022257931530476,batch acc:0.5703125\n",
      "epoch:5,batch loss:0.004962929058820009,batch acc:0.54296875\n",
      "epoch:5,batch loss:0.005488033406436443,batch acc:0.46875\n",
      "epoch:5,batch loss:0.005162395536899567,batch acc:0.5078125\n",
      "epoch:5,batch loss:0.004929223097860813,batch acc:0.5546875\n",
      "epoch 6\n",
      "epoch:6,batch loss:0.00503240991383791,batch acc:0.5234375\n",
      "epoch:6,batch loss:0.0049113063141703606,batch acc:0.55078125\n",
      "epoch:6,batch loss:0.005165045615285635,batch acc:0.5234375\n",
      "epoch:6,batch loss:0.004767592065036297,batch acc:0.5546875\n",
      "epoch:6,batch loss:0.004792746156454086,batch acc:0.56640625\n",
      "epoch:6,batch loss:0.005308192688971758,batch acc:0.5\n",
      "epoch:6,batch loss:0.005041574127972126,batch acc:0.53515625\n",
      "epoch:6,batch loss:0.004856858868151903,batch acc:0.55859375\n",
      "epoch 7\n",
      "epoch:7,batch loss:0.0049782004207372665,batch acc:0.51171875\n",
      "epoch:7,batch loss:0.004750807769596577,batch acc:0.546875\n",
      "epoch:7,batch loss:0.005007835570722818,batch acc:0.515625\n",
      "epoch:7,batch loss:0.0046772705391049385,batch acc:0.57421875\n",
      "epoch:7,batch loss:0.004677911289036274,batch acc:0.56640625\n",
      "epoch:7,batch loss:0.005040436051785946,batch acc:0.515625\n",
      "epoch:7,batch loss:0.005046558100730181,batch acc:0.49609375\n",
      "epoch:7,batch loss:0.004864645656198263,batch acc:0.546875\n",
      "epoch 8\n",
      "epoch:8,batch loss:0.004842109978199005,batch acc:0.52734375\n",
      "epoch:8,batch loss:0.004713018424808979,batch acc:0.5625\n",
      "epoch:8,batch loss:0.004984149243682623,batch acc:0.515625\n",
      "epoch:8,batch loss:0.00470937043428421,batch acc:0.55859375\n",
      "epoch:8,batch loss:0.004663950763642788,batch acc:0.56640625\n",
      "epoch:8,batch loss:0.005074081942439079,batch acc:0.515625\n",
      "epoch:8,batch loss:0.004964850842952728,batch acc:0.51953125\n",
      "epoch:8,batch loss:0.004977556876838207,batch acc:0.5546875\n",
      "epoch 9\n",
      "epoch:9,batch loss:0.004831145983189344,batch acc:0.5234375\n",
      "epoch:9,batch loss:0.004655519034713507,batch acc:0.5625\n",
      "epoch:9,batch loss:0.005075337365269661,batch acc:0.5234375\n",
      "epoch:9,batch loss:0.004708799999207258,batch acc:0.57421875\n",
      "epoch:9,batch loss:0.004634434822946787,batch acc:0.57421875\n",
      "epoch:9,batch loss:0.005074067506939173,batch acc:0.515625\n",
      "epoch:9,batch loss:0.0050430865958333015,batch acc:0.515625\n",
      "epoch:9,batch loss:0.005036972928792238,batch acc:0.5546875\n",
      "epoch 10\n",
      "epoch:10,batch loss:0.004827666096389294,batch acc:0.52734375\n",
      "epoch:10,batch loss:0.004678685683757067,batch acc:0.5625\n",
      "epoch:10,batch loss:0.005186258349567652,batch acc:0.52734375\n",
      "epoch:10,batch loss:0.0048629664815962315,batch acc:0.546875\n",
      "epoch:10,batch loss:0.004686668515205383,batch acc:0.5625\n",
      "epoch:10,batch loss:0.005165013950318098,batch acc:0.51171875\n",
      "epoch:10,batch loss:0.00503155030310154,batch acc:0.5234375\n",
      "epoch:10,batch loss:0.005034557543694973,batch acc:0.54296875\n",
      "epoch 11\n",
      "epoch:11,batch loss:0.004981132689863443,batch acc:0.47265625\n",
      "epoch:11,batch loss:0.004747689235955477,batch acc:0.5546875\n",
      "epoch:11,batch loss:0.005148943513631821,batch acc:0.51953125\n",
      "epoch:11,batch loss:0.004867137875407934,batch acc:0.55078125\n",
      "epoch:11,batch loss:0.004699263721704483,batch acc:0.55859375\n",
      "epoch:11,batch loss:0.005248590372502804,batch acc:0.5078125\n",
      "epoch:11,batch loss:0.005015155300498009,batch acc:0.53515625\n",
      "epoch:11,batch loss:0.0049796500243246555,batch acc:0.5078125\n",
      "epoch 12\n",
      "epoch:12,batch loss:0.0048037925735116005,batch acc:0.53515625\n",
      "epoch:12,batch loss:0.004706327337771654,batch acc:0.5625\n",
      "epoch:12,batch loss:0.005209582392126322,batch acc:0.515625\n",
      "epoch:12,batch loss:0.004839706234633923,batch acc:0.55078125\n",
      "epoch:12,batch loss:0.004588841460645199,batch acc:0.56640625\n",
      "epoch:12,batch loss:0.005164886824786663,batch acc:0.515625\n",
      "epoch:12,batch loss:0.005061193834990263,batch acc:0.52734375\n",
      "epoch:12,batch loss:0.004866958130151033,batch acc:0.55859375\n",
      "epoch 13\n",
      "epoch:13,batch loss:0.004867772571742535,batch acc:0.515625\n",
      "epoch:13,batch loss:0.004715226124972105,batch acc:0.55078125\n",
      "epoch:13,batch loss:0.005085932090878487,batch acc:0.5234375\n",
      "epoch:13,batch loss:0.004861286375671625,batch acc:0.56640625\n",
      "epoch:13,batch loss:0.004556693602353334,batch acc:0.5703125\n",
      "epoch:13,batch loss:0.005247887223958969,batch acc:0.51171875\n",
      "epoch:13,batch loss:0.004924948327243328,batch acc:0.54296875\n",
      "epoch:13,batch loss:0.004937424790114164,batch acc:0.484375\n",
      "epoch 14\n",
      "epoch:14,batch loss:0.004868834745138884,batch acc:0.515625\n",
      "epoch:14,batch loss:0.004690425470471382,batch acc:0.5625\n",
      "epoch:14,batch loss:0.0050163110718131065,batch acc:0.53515625\n",
      "epoch:14,batch loss:0.004812959581613541,batch acc:0.50390625\n",
      "epoch:14,batch loss:0.004549279808998108,batch acc:0.57421875\n",
      "epoch:14,batch loss:0.005331643391400576,batch acc:0.51953125\n",
      "epoch:14,batch loss:0.004989924840629101,batch acc:0.515625\n",
      "epoch:14,batch loss:0.004809308797121048,batch acc:0.5546875\n",
      "epoch 15\n",
      "epoch:15,batch loss:0.004760100040584803,batch acc:0.5234375\n",
      "epoch:15,batch loss:0.004690938629209995,batch acc:0.5625\n",
      "epoch:15,batch loss:0.005039498675614595,batch acc:0.52734375\n",
      "epoch:15,batch loss:0.004645694978535175,batch acc:0.5703125\n",
      "epoch:15,batch loss:0.004572458565235138,batch acc:0.56640625\n",
      "epoch:15,batch loss:0.005219262093305588,batch acc:0.5078125\n",
      "epoch:15,batch loss:0.004900277592241764,batch acc:0.53515625\n",
      "epoch:15,batch loss:0.004888550844043493,batch acc:0.53515625\n",
      "epoch 16\n",
      "epoch:16,batch loss:0.004875804763287306,batch acc:0.51953125\n",
      "epoch:16,batch loss:0.004664970096200705,batch acc:0.55078125\n",
      "epoch:16,batch loss:0.004829051438719034,batch acc:0.5234375\n",
      "epoch:16,batch loss:0.0045995949767529964,batch acc:0.58984375\n",
      "epoch:16,batch loss:0.004621369764208794,batch acc:0.56640625\n",
      "epoch:16,batch loss:0.0053320033475756645,batch acc:0.5078125\n",
      "epoch:16,batch loss:0.004822711925953627,batch acc:0.5625\n",
      "epoch:16,batch loss:0.004898523911833763,batch acc:0.5\n",
      "epoch 17\n",
      "epoch:17,batch loss:0.004846794530749321,batch acc:0.53125\n",
      "epoch:17,batch loss:0.004710950888693333,batch acc:0.5625\n",
      "epoch:17,batch loss:0.004809051752090454,batch acc:0.53125\n",
      "epoch:17,batch loss:0.004895819816738367,batch acc:0.4765625\n",
      "epoch:17,batch loss:0.004592671524733305,batch acc:0.5703125\n",
      "epoch:17,batch loss:0.005464550573378801,batch acc:0.51953125\n",
      "epoch:17,batch loss:0.004897865001112223,batch acc:0.55078125\n",
      "epoch:17,batch loss:0.0050571151077747345,batch acc:0.484375\n",
      "epoch 18\n",
      "epoch:18,batch loss:0.004707331769168377,batch acc:0.51953125\n",
      "epoch:18,batch loss:0.004743027966469526,batch acc:0.55859375\n",
      "epoch:18,batch loss:0.004882646258920431,batch acc:0.5390625\n",
      "epoch:18,batch loss:0.004717777017503977,batch acc:0.55078125\n",
      "epoch:18,batch loss:0.004555056802928448,batch acc:0.60546875\n",
      "epoch:18,batch loss:0.00533431489020586,batch acc:0.5234375\n",
      "epoch:18,batch loss:0.004825239535421133,batch acc:0.53125\n",
      "epoch:18,batch loss:0.0048519521951675415,batch acc:0.53515625\n",
      "epoch 19\n",
      "epoch:19,batch loss:0.00460252957418561,batch acc:0.5546875\n",
      "epoch:19,batch loss:0.00465431297197938,batch acc:0.5625\n",
      "epoch:19,batch loss:0.004927398636937141,batch acc:0.53125\n",
      "epoch:19,batch loss:0.004423251375555992,batch acc:0.6015625\n",
      "epoch:19,batch loss:0.004489387385547161,batch acc:0.60546875\n",
      "epoch:19,batch loss:0.005013094749301672,batch acc:0.5546875\n",
      "epoch:19,batch loss:0.004673593677580357,batch acc:0.59765625\n",
      "epoch:19,batch loss:0.004702494479715824,batch acc:0.54296875\n",
      "epoch 20\n",
      "epoch:20,batch loss:0.00474794814363122,batch acc:0.51953125\n",
      "epoch:20,batch loss:0.004550539888441563,batch acc:0.58203125\n",
      "epoch:20,batch loss:0.004741399083286524,batch acc:0.5546875\n",
      "epoch:20,batch loss:0.004236346576362848,batch acc:0.6015625\n",
      "epoch:20,batch loss:0.004550342448055744,batch acc:0.55859375\n",
      "epoch:20,batch loss:0.004839685279875994,batch acc:0.578125\n",
      "epoch:20,batch loss:0.004807461518794298,batch acc:0.546875\n",
      "epoch:20,batch loss:0.004660248756408691,batch acc:0.5546875\n",
      "epoch 21\n",
      "epoch:21,batch loss:0.004543743561953306,batch acc:0.5703125\n",
      "epoch:21,batch loss:0.004642517305910587,batch acc:0.54296875\n",
      "epoch:21,batch loss:0.004616294056177139,batch acc:0.55859375\n",
      "epoch:21,batch loss:0.004277167376130819,batch acc:0.59765625\n",
      "epoch:21,batch loss:0.004459434654563665,batch acc:0.60546875\n",
      "epoch:21,batch loss:0.0049211191944777966,batch acc:0.546875\n",
      "epoch:21,batch loss:0.004744874779134989,batch acc:0.546875\n",
      "epoch:21,batch loss:0.004601596854627132,batch acc:0.56640625\n",
      "epoch 22\n",
      "epoch:22,batch loss:0.005002162419259548,batch acc:0.55078125\n",
      "epoch:22,batch loss:0.005021244287490845,batch acc:0.484375\n",
      "epoch:22,batch loss:0.004747083876281977,batch acc:0.5703125\n",
      "epoch:22,batch loss:0.0044076149351894855,batch acc:0.578125\n",
      "epoch:22,batch loss:0.0048324535600841045,batch acc:0.5546875\n",
      "epoch:22,batch loss:0.005656958092004061,batch acc:0.40625\n",
      "epoch:22,batch loss:0.005310602020472288,batch acc:0.48046875\n",
      "epoch:22,batch loss:0.004945834632962942,batch acc:0.52734375\n",
      "epoch 23\n",
      "epoch:23,batch loss:0.005167937837541103,batch acc:0.53515625\n",
      "epoch:23,batch loss:0.004846172407269478,batch acc:0.55078125\n",
      "epoch:23,batch loss:0.004837790969759226,batch acc:0.546875\n",
      "epoch:23,batch loss:0.004835760686546564,batch acc:0.58984375\n",
      "epoch:23,batch loss:0.004905025474727154,batch acc:0.57421875\n",
      "epoch:23,batch loss:0.005701398942619562,batch acc:0.51953125\n",
      "epoch:23,batch loss:0.005171355325728655,batch acc:0.4765625\n",
      "epoch:23,batch loss:0.005014682654291391,batch acc:0.53125\n",
      "epoch 24\n",
      "epoch:24,batch loss:0.004644208122044802,batch acc:0.53125\n",
      "epoch:24,batch loss:0.004795764107257128,batch acc:0.55859375\n",
      "epoch:24,batch loss:0.00497079361230135,batch acc:0.53125\n",
      "epoch:24,batch loss:0.0047384523786604404,batch acc:0.515625\n",
      "epoch:24,batch loss:0.004530895035713911,batch acc:0.59375\n",
      "epoch:24,batch loss:0.005446272902190685,batch acc:0.5078125\n",
      "epoch:24,batch loss:0.004787455312907696,batch acc:0.578125\n",
      "epoch:24,batch loss:0.005068637430667877,batch acc:0.51953125\n",
      "epoch 25\n",
      "epoch:25,batch loss:0.004582440480589867,batch acc:0.53515625\n",
      "epoch:25,batch loss:0.004599162843078375,batch acc:0.5546875\n",
      "epoch:25,batch loss:0.0049137757159769535,batch acc:0.52734375\n",
      "epoch:25,batch loss:0.004580613225698471,batch acc:0.56640625\n",
      "epoch:25,batch loss:0.004462334793061018,batch acc:0.6015625\n",
      "epoch:25,batch loss:0.005204859189689159,batch acc:0.51953125\n",
      "epoch:25,batch loss:0.004560037050396204,batch acc:0.59375\n",
      "epoch:25,batch loss:0.004744936712086201,batch acc:0.53125\n",
      "epoch 26\n",
      "epoch:26,batch loss:0.004348505288362503,batch acc:0.58203125\n",
      "epoch:26,batch loss:0.00439037848263979,batch acc:0.57421875\n",
      "epoch:26,batch loss:0.004627378657460213,batch acc:0.58203125\n",
      "epoch:26,batch loss:0.004396354779601097,batch acc:0.55859375\n",
      "epoch:26,batch loss:0.004195148590952158,batch acc:0.62109375\n",
      "epoch:26,batch loss:0.004911457654088736,batch acc:0.55859375\n",
      "epoch:26,batch loss:0.004387660417705774,batch acc:0.59375\n",
      "epoch:26,batch loss:0.004580313805490732,batch acc:0.546875\n",
      "epoch 27\n",
      "epoch:27,batch loss:0.004275798331946135,batch acc:0.58984375\n",
      "epoch:27,batch loss:0.004445204511284828,batch acc:0.578125\n",
      "epoch:27,batch loss:0.004451879765838385,batch acc:0.578125\n",
      "epoch:27,batch loss:0.0042570182122290134,batch acc:0.58984375\n",
      "epoch:27,batch loss:0.004071477334946394,batch acc:0.64453125\n",
      "epoch:27,batch loss:0.004755061119794846,batch acc:0.5703125\n",
      "epoch:27,batch loss:0.004488966427743435,batch acc:0.59375\n",
      "epoch:27,batch loss:0.004474889021366835,batch acc:0.5625\n",
      "epoch 28\n",
      "epoch:28,batch loss:0.004289539996534586,batch acc:0.6171875\n",
      "epoch:28,batch loss:0.004303825553506613,batch acc:0.58984375\n",
      "epoch:28,batch loss:0.0045037642121315,batch acc:0.55859375\n",
      "epoch:28,batch loss:0.004173419438302517,batch acc:0.6015625\n",
      "epoch:28,batch loss:0.004100187681615353,batch acc:0.65625\n",
      "epoch:28,batch loss:0.004726931918412447,batch acc:0.56640625\n",
      "epoch:28,batch loss:0.0044302623718976974,batch acc:0.5703125\n",
      "epoch:28,batch loss:0.004437198396772146,batch acc:0.57421875\n",
      "epoch 29\n",
      "epoch:29,batch loss:0.004169834312051535,batch acc:0.59375\n",
      "epoch:29,batch loss:0.004178948700428009,batch acc:0.60546875\n",
      "epoch:29,batch loss:0.0045993332751095295,batch acc:0.5703125\n",
      "epoch:29,batch loss:0.004199860617518425,batch acc:0.59765625\n",
      "epoch:29,batch loss:0.004307463765144348,batch acc:0.625\n",
      "epoch:29,batch loss:0.00457948399707675,batch acc:0.56640625\n",
      "epoch:29,batch loss:0.004471723455935717,batch acc:0.55078125\n",
      "epoch:29,batch loss:0.004437497351318598,batch acc:0.59375\n"
     ]
    }
   ],
   "source": [
    "print(\"training... \")\n",
    "train(model=model,dataset_x=x_train,dataset_y=y_train,\n",
    "num_epochs=30,batch_size=256,optimizer=optimizer,loss=loss,\n",
    "batch_loss_list=batch_loss_list,batch_acc_list=batch_acc_list)\n",
    "# torch.save(model,\"models/BiLSTM_v3.npy\")"
   ]
  },
  {
   "cell_type": "code",
   "execution_count": 12,
   "metadata": {},
   "outputs": [
    {
     "data": {
      "text/plain": [
       "[<matplotlib.lines.Line2D at 0x1fbd0cc59d0>]"
      ]
     },
     "execution_count": 12,
     "metadata": {},
     "output_type": "execute_result"
    },
    {
     "data": {
      "image/png": "[encoded data removed]",
      "text/plain": [
       "<Figure size 432x288 with 1 Axes>"
      ]
     },
     "metadata": {
      "needs_background": "light"
     },
     "output_type": "display_data"
    }
   ],
   "source": [
    "plt.xlabel('Iterations')\n",
    "plt.ylabel('train loss')\n",
    "plt.plot(np.arange(len(batch_loss_list)), batch_loss_list)"
   ]
  },
  {
   "cell_type": "code",
   "execution_count": 13,
   "metadata": {},
   "outputs": [
    {
     "data": {
      "text/plain": [
       "[<matplotlib.lines.Line2D at 0x1fbceaccc10>]"
      ]
     },
     "execution_count": 13,
     "metadata": {},
     "output_type": "execute_result"
    },
    {
     "data": {
      "image/png": "[encoded data removed]",
      "text/plain": [
       "<Figure size 432x288 with 1 Axes>"
      ]
     },
     "metadata": {
      "needs_background": "light"
     },
     "output_type": "display_data"
    }
   ],
   "source": [
    "plt.xlabel('Iterations')\n",
    "plt.ylabel('train acc')\n",
    "plt.plot(np.arange(len(batch_acc_list)), batch_acc_list)"
   ]
  },
  {
   "cell_type": "markdown",
   "metadata": {},
   "source": [
    "## 测试"
   ]
  },
  {
   "cell_type": "code",
   "execution_count": 14,
   "metadata": {},
   "outputs": [],
   "source": [
    "def test(model,dataset_x,dataset_y,pred_list,real_list):\n",
    "    model.eval()\n",
    "    for i in range(len(dataset_x)):\n",
    "        X = torch.tensor([dataset_x[i]]).to(device)\n",
    "        y = torch.tensor([dataset_y[i]]).to(device)\n",
    "        y_hat = model(X)\n",
    "        pred_list.append(y_hat.argmax(dim=1).cpu().item())\n",
    "        real_list.append(y.argmax(dim=1).cpu().item())"
   ]
  },
  {
   "cell_type": "code",
   "execution_count": 15,
   "metadata": {},
   "outputs": [
    {
     "name": "stdout",
     "output_type": "stream",
     "text": [
      "testing... \n"
     ]
    }
   ],
   "source": [
    "# model = torch.load(\"models/BiLSTM_v3.npy\")\n",
    "pred_list = []\n",
    "real_list = []\n",
    "print(\"testing... \")\n",
    "test(model,x_test,y_test,pred_list,real_list)"
   ]
  },
  {
   "cell_type": "code",
   "execution_count": 16,
   "metadata": {},
   "outputs": [
    {
     "name": "stdout",
     "output_type": "stream",
     "text": [
      "              precision    recall  f1-score   support\n",
      "\n",
      "           0       0.52      0.47      0.49       277\n",
      "           1       0.26      0.64      0.37       109\n",
      "           2       0.00      0.00      0.00        57\n",
      "           3       0.00      0.00      0.00        16\n",
      "           4       0.00      0.00      0.00        63\n",
      "\n",
      "    accuracy                           0.38       522\n",
      "   macro avg       0.16      0.22      0.17       522\n",
      "weighted avg       0.33      0.38      0.34       522\n",
      "\n"
     ]
    },
    {
     "name": "stderr",
     "output_type": "stream",
     "text": [
      "e:\\Software\\Anaconda\\lib\\site-packages\\sklearn\\metrics\\_classification.py:1318: UndefinedMetricWarning: Precision and F-score are ill-defined and being set to 0.0 in labels with no predicted samples. Use `zero_division` parameter to control this behavior.\n",
      "  _warn_prf(average, modifier, msg_start, len(result))\n",
      "e:\\Software\\Anaconda\\lib\\site-packages\\sklearn\\metrics\\_classification.py:1318: UndefinedMetricWarning: Precision and F-score are ill-defined and being set to 0.0 in labels with no predicted samples. Use `zero_division` parameter to control this behavior.\n",
      "  _warn_prf(average, modifier, msg_start, len(result))\n",
      "e:\\Software\\Anaconda\\lib\\site-packages\\sklearn\\metrics\\_classification.py:1318: UndefinedMetricWarning: Precision and F-score are ill-defined and being set to 0.0 in labels with no predicted samples. Use `zero_division` parameter to control this behavior.\n",
      "  _warn_prf(average, modifier, msg_start, len(result))\n"
     ]
    }
   ],
   "source": [
    "print(metrics.classification_report(real_list,pred_list))"
   ]
  },
  {
   "cell_type": "code",
   "execution_count": 17,
   "metadata": {},
   "outputs": [
    {
     "name": "stdout",
     "output_type": "stream",
     "text": [
      "显示百分比：\n",
      "[[ 0.47  0.53  0.00  0.00  0.00]\n",
      " [ 0.34  0.64  0.00  0.00  0.02]\n",
      " [ 0.47  0.53  0.00  0.00  0.00]\n",
      " [ 0.31  0.69  0.00  0.00  0.00]\n",
      " [ 0.79  0.21  0.00  0.00  0.00]]\n"
     ]
    },
    {
     "data": {
      "image/png": "[encoded data removed]",
      "text/plain": [
       "<Figure size 432x288 with 2 Axes>"
      ]
     },
     "metadata": {
      "needs_background": "light"
     },
     "output_type": "display_data"
    }
   ],
   "source": [
    "cm = metrics.confusion_matrix(real_list,pred_list)\n",
    "plot_confusion_matrix(cm,range(5),normalize=True,title='test dataset confusion matrix')"
   ]
  },
  {
   "cell_type": "code",
   "execution_count": null,
   "metadata": {},
   "outputs": [],
   "source": []
  }
 ],
 "metadata": {
  "kernelspec": {
   "display_name": "Python 3.8.8 ('base')",
   "language": "python",
   "name": "python3"
  },
  "language_info": {
   "codemirror_mode": {
    "name": "ipython",
    "version": 3
   },
   "file_extension": ".py",
   "mimetype": "text/x-python",
   "name": "python",
   "nbconvert_exporter": "python",
   "pygments_lexer": "ipython3",
   "version": "3.8.8"
  },
  "orig_nbformat": 4,
  "vscode": {
   "interpreter": {
    "hash": "6429919fe5eee10fa3db4376c75d0431aac4ee64633f3fde6de3e71a7b7c5c41"
   }
  }
 },
 "nbformat": 4,
 "nbformat_minor": 2
}
